{
 "cells": [
  {
   "cell_type": "markdown",
   "metadata": {},
   "source": [
    "# 🎶 Music Behavior Analysis by City  #\n",
    "\n",
    "**Proyecto**: Análisis de comportamiento musical por ciudad \n",
    "\n",
    "**Autor**: Carlos Smith\n",
    "\n",
    "**Fecha**: Junio 2025\n",
    "\n",
    "*Descripción del Proyecto*:\n",
    "Este proyecto se centra en el **análisis de datos para la prueba de hipótesis**, un pilar fundamental en la toma de decisiones basada en datos. Abordaremos la comparación de **preferencias musicales y patrones de actividad** de usuarios de servicios de streaming en dos ciudades distintas: Springfield y Shelbyville. Trabajaremos con **datos reales de transmisión de música online** para investigar si el comportamiento de los usuarios difiere según el día de la semana y la ciudad.\n",
    "\n",
    "🎯 *Objetivos Clave*:\n",
    "\n",
    "- **Formulación y Prueba de Hipótesis**: Diseñar y ejecutar un proceso para validar supuestos sobre el comportamiento del usuario.\n",
    "- **Análisis Comparativo**: Identificar y contrastar patrones de actividad musical entre diferentes ubicaciones urbanas.\n",
    "- **Asegurar la Calidad de Datos**: Evaluar, preprocesar y limpiar conjuntos de datos reales para garantizar su fiabilidad en el análisis.\n",
    "- **Generación de Insights Accionables**: Derivar conclusiones claras y concisas que permitan comprender mejor las dinámicas de consumo musical.\n",
    "\n",
    "🛠️ Habilidades Demostradas:\n",
    "\n",
    "- **Python**: Dominio en la manipulación de datos, filtrado y agregación para análisis complejos.\n",
    "- **Análisis Exploratorio de Datos (EDA)**: Capacidad para identificar la estructura de los datos, detectar problemas de calidad (valores ausentes, duplicados) y comprender las distribuciones.\n",
    "- **Preprocesamiento de Datos**: Experiencia en la limpieza de datos, estandarización de formatos (ej., encabezados) y manejo robusto de inconsistencias.\n",
    "- **Prueba de Hipótesis**: Habilidad para formular preguntas de negocio como hipótesis estadísticas y utilizar datos para aceptarlas o rechazarlas.\n",
    "- **Pensamiento Crítico**: Capacidad para evaluar suposiciones, interpretar resultados y derivar conclusiones significativas.\n",
    "- **Organización del Proyecto**: Estructuración de un proceso de análisis en etapas claras y manejables.\n",
    "\n",
    "Este proyecto destaca la habilidad esencial para la investigación basada en datos y la prueba de hipótesis, demostrando cómo la evidencia empírica se traduce en conocimiento para la toma de decisiones estratégicas.\n",
    "\n",
    "---\n",
    "\n",
    "**Contexto del Análisis:**\n",
    "\n",
    "Como parte de las responsabilidades del equipo de análisis, este proyecto se enfoca en desentrañar las diferencias en el comportamiento del usuario en el ámbito del streaming musical. Implica la evaluación rigurosa de la calidad de un conjunto de datos, su preprocesamiento meticuloso y la aplicación de métodos para probar si existen variaciones significativas en la actividad de los usuarios entre Springfield y Shelbyville, lo que es crucial para estrategias de segmentación y personalización."
   ]
  },
  {
   "cell_type": "markdown",
   "metadata": {
    "id": "fhq_eyov_Zcs"
   },
   "source": [
    "# Contenido <a id='back'></a>\n",
    "\n",
    "- Introducción\n",
    "- Etapa 1. Descripción de los datos\n",
    "    - Conclusiones\n",
    "- Etapa 2. Preprocesamiento de datos\n",
    "    - 2.1 Estilo del encabezado\n",
    "    - 2.2 Valores ausentes\n",
    "    - 2.3 Duplicados\n",
    "    - 2.4 Conclusiones\n",
    "- Etapa 3. Prueba de hipótesis\n",
    "    3.1 Hipótesis 1: actividad de los usuarios y las usuarias en las dos ciudades\n",
    "- Conclusiones"
   ]
  },
  {
   "cell_type": "markdown",
   "metadata": {
    "id": "Ml1hmfXC_Zcs"
   },
   "source": [
    "### **Etapa 1. Descripción de los Datos**\n",
    "\n",
    "En esta etapa inicial del proyecto, nuestro objetivo es realizar un análisis exploratorio de datos (EDA) para comprender la estructura, el contenido y la calidad del conjunto de datos *music_project_en.csv*. Esta fase es crucial para identificar posibles problemas que puedan afectar la fiabilidad de nuestro análisis y la prueba de hipótesis posterior.\n",
    "\n",
    "Para ello, utilizaremos la biblioteca *pandas*, esencial para la manipulación y el análisis de datos en Python.\n",
    "\n",
    "**Importación de Datos y Revisión Preliminar**\n",
    "\n",
    "Importaremos la biblioteca pandas y cargaremos el archivo de datos en un DataFrame, que llamaremos df. Luego, realizaremos una inspección inicial para obtener una visión rápida de las primeras filas y la información general del DataFrame."
   ]
  },
  {
   "cell_type": "markdown",
   "metadata": {
    "id": "57eAOGIz_Zcs"
   },
   "source": [
    "Importando librería pandas"
   ]
  },
  {
   "cell_type": "code",
   "execution_count": 2,
   "metadata": {
    "id": "AXN7PHPN_Zcs",
    "trusted": true
   },
   "outputs": [],
   "source": [
    "# Importar pandas\n",
    "import pandas as pd\n"
   ]
  },
  {
   "cell_type": "markdown",
   "metadata": {
    "id": "SG23P8tt_Zcs"
   },
   "source": [
    "Cargando archivo `music_project_en.csv` de la carpeta `/datasets/` y guardando en la variable `df`:"
   ]
  },
  {
   "cell_type": "code",
   "execution_count": 3,
   "metadata": {
    "id": "fFVu7vqh_Zct",
    "trusted": true
   },
   "outputs": [],
   "source": [
    "# Leer el archivo y almacenarlo en df\n",
    "df=pd.read_csv(\"/datasets/music_project_en.csv\")"
   ]
  },
  {
   "cell_type": "markdown",
   "metadata": {
    "id": "rDoOMd3uTqnZ"
   },
   "source": [
    "Mostrando 10 primeras filas de la tabla:"
   ]
  },
  {
   "cell_type": "code",
   "execution_count": 6,
   "metadata": {
    "id": "oWTVX3gW_Zct",
    "trusted": true
   },
   "outputs": [
    {
     "data": {
      "text/html": [
       "<div>\n",
       "<style scoped>\n",
       "    .dataframe tbody tr th:only-of-type {\n",
       "        vertical-align: middle;\n",
       "    }\n",
       "\n",
       "    .dataframe tbody tr th {\n",
       "        vertical-align: top;\n",
       "    }\n",
       "\n",
       "    .dataframe thead th {\n",
       "        text-align: right;\n",
       "    }\n",
       "</style>\n",
       "<table border=\"1\" class=\"dataframe\">\n",
       "  <thead>\n",
       "    <tr style=\"text-align: right;\">\n",
       "      <th></th>\n",
       "      <th>userID</th>\n",
       "      <th>Track</th>\n",
       "      <th>artist</th>\n",
       "      <th>genre</th>\n",
       "      <th>City</th>\n",
       "      <th>time</th>\n",
       "      <th>Day</th>\n",
       "    </tr>\n",
       "  </thead>\n",
       "  <tbody>\n",
       "    <tr>\n",
       "      <th>0</th>\n",
       "      <td>FFB692EC</td>\n",
       "      <td>Kamigata To Boots</td>\n",
       "      <td>The Mass Missile</td>\n",
       "      <td>rock</td>\n",
       "      <td>Shelbyville</td>\n",
       "      <td>20:28:33</td>\n",
       "      <td>Wednesday</td>\n",
       "    </tr>\n",
       "    <tr>\n",
       "      <th>1</th>\n",
       "      <td>55204538</td>\n",
       "      <td>Delayed Because of Accident</td>\n",
       "      <td>Andreas Rönnberg</td>\n",
       "      <td>rock</td>\n",
       "      <td>Springfield</td>\n",
       "      <td>14:07:09</td>\n",
       "      <td>Friday</td>\n",
       "    </tr>\n",
       "    <tr>\n",
       "      <th>2</th>\n",
       "      <td>20EC38</td>\n",
       "      <td>Funiculì funiculà</td>\n",
       "      <td>Mario Lanza</td>\n",
       "      <td>pop</td>\n",
       "      <td>Shelbyville</td>\n",
       "      <td>20:58:07</td>\n",
       "      <td>Wednesday</td>\n",
       "    </tr>\n",
       "    <tr>\n",
       "      <th>3</th>\n",
       "      <td>A3DD03C9</td>\n",
       "      <td>Dragons in the Sunset</td>\n",
       "      <td>Fire + Ice</td>\n",
       "      <td>folk</td>\n",
       "      <td>Shelbyville</td>\n",
       "      <td>08:37:09</td>\n",
       "      <td>Monday</td>\n",
       "    </tr>\n",
       "    <tr>\n",
       "      <th>4</th>\n",
       "      <td>E2DC1FAE</td>\n",
       "      <td>Soul People</td>\n",
       "      <td>Space Echo</td>\n",
       "      <td>dance</td>\n",
       "      <td>Springfield</td>\n",
       "      <td>08:34:34</td>\n",
       "      <td>Monday</td>\n",
       "    </tr>\n",
       "    <tr>\n",
       "      <th>5</th>\n",
       "      <td>842029A1</td>\n",
       "      <td>Chains</td>\n",
       "      <td>Obladaet</td>\n",
       "      <td>rusrap</td>\n",
       "      <td>Shelbyville</td>\n",
       "      <td>13:09:41</td>\n",
       "      <td>Friday</td>\n",
       "    </tr>\n",
       "    <tr>\n",
       "      <th>6</th>\n",
       "      <td>4CB90AA5</td>\n",
       "      <td>True</td>\n",
       "      <td>Roman Messer</td>\n",
       "      <td>dance</td>\n",
       "      <td>Springfield</td>\n",
       "      <td>13:00:07</td>\n",
       "      <td>Wednesday</td>\n",
       "    </tr>\n",
       "    <tr>\n",
       "      <th>7</th>\n",
       "      <td>F03E1C1F</td>\n",
       "      <td>Feeling This Way</td>\n",
       "      <td>Polina Griffith</td>\n",
       "      <td>dance</td>\n",
       "      <td>Springfield</td>\n",
       "      <td>20:47:49</td>\n",
       "      <td>Wednesday</td>\n",
       "    </tr>\n",
       "    <tr>\n",
       "      <th>8</th>\n",
       "      <td>8FA1D3BE</td>\n",
       "      <td>L’estate</td>\n",
       "      <td>Julia Dalia</td>\n",
       "      <td>ruspop</td>\n",
       "      <td>Springfield</td>\n",
       "      <td>09:17:40</td>\n",
       "      <td>Friday</td>\n",
       "    </tr>\n",
       "    <tr>\n",
       "      <th>9</th>\n",
       "      <td>E772D5C0</td>\n",
       "      <td>Pessimist</td>\n",
       "      <td>NaN</td>\n",
       "      <td>dance</td>\n",
       "      <td>Shelbyville</td>\n",
       "      <td>21:20:49</td>\n",
       "      <td>Wednesday</td>\n",
       "    </tr>\n",
       "  </tbody>\n",
       "</table>\n",
       "</div>"
      ],
      "text/plain": [
       "     userID                        Track            artist   genre  \\\n",
       "0  FFB692EC            Kamigata To Boots  The Mass Missile    rock   \n",
       "1  55204538  Delayed Because of Accident  Andreas Rönnberg    rock   \n",
       "2    20EC38            Funiculì funiculà       Mario Lanza     pop   \n",
       "3  A3DD03C9        Dragons in the Sunset        Fire + Ice    folk   \n",
       "4  E2DC1FAE                  Soul People        Space Echo   dance   \n",
       "5  842029A1                       Chains          Obladaet  rusrap   \n",
       "6  4CB90AA5                         True      Roman Messer   dance   \n",
       "7  F03E1C1F             Feeling This Way   Polina Griffith   dance   \n",
       "8  8FA1D3BE                     L’estate       Julia Dalia  ruspop   \n",
       "9  E772D5C0                    Pessimist               NaN   dance   \n",
       "\n",
       "        City        time        Day  \n",
       "0  Shelbyville  20:28:33  Wednesday  \n",
       "1  Springfield  14:07:09     Friday  \n",
       "2  Shelbyville  20:58:07  Wednesday  \n",
       "3  Shelbyville  08:37:09     Monday  \n",
       "4  Springfield  08:34:34     Monday  \n",
       "5  Shelbyville  13:09:41     Friday  \n",
       "6  Springfield  13:00:07  Wednesday  \n",
       "7  Springfield  20:47:49  Wednesday  \n",
       "8  Springfield  09:17:40     Friday  \n",
       "9  Shelbyville  21:20:49  Wednesday  "
      ]
     },
     "execution_count": 6,
     "metadata": {},
     "output_type": "execute_result"
    }
   ],
   "source": [
    "# Obtener las 10 primeras filas de la tabla df\n",
    "df.head(10)"
   ]
  },
  {
   "cell_type": "markdown",
   "metadata": {
    "id": "EO73Kwic_Zct"
   },
   "source": [
    "Información general sobre la tabla"
   ]
  },
  {
   "cell_type": "code",
   "execution_count": 5,
   "metadata": {
    "id": "DSf2kIb-_Zct",
    "trusted": true
   },
   "outputs": [
    {
     "name": "stdout",
     "output_type": "stream",
     "text": [
      "<class 'pandas.core.frame.DataFrame'>\n",
      "RangeIndex: 65079 entries, 0 to 65078\n",
      "Data columns (total 7 columns):\n",
      " #   Column    Non-Null Count  Dtype \n",
      "---  ------    --------------  ----- \n",
      " 0     userID  65079 non-null  object\n",
      " 1   Track     63736 non-null  object\n",
      " 2   artist    57512 non-null  object\n",
      " 3   genre     63881 non-null  object\n",
      " 4     City    65079 non-null  object\n",
      " 5   time      65079 non-null  object\n",
      " 6   Day       65079 non-null  object\n",
      "dtypes: object(7)\n",
      "memory usage: 3.5+ MB\n"
     ]
    }
   ],
   "source": [
    "# Obtener la información general sobre nuestros datos\n",
    "df.info()\n"
   ]
  },
  {
   "cell_type": "markdown",
   "metadata": {
    "id": "TaQ2Iwbr_Zct"
   },
   "source": [
    "#### **Observaciones sobre la Estructura y Estilo de los Encabezados**\n",
    "\n",
    "Al examinar el DataFrame, hemos realizado las siguientes observaciones sobre su estructura y el estilo de los encabezados:\n",
    "\n",
    "- **Estructura:** La tabla contiene siete columnas. A primera vista, todas ellas parecen estar almacenando datos de tipo object (lo que sugiere que pandas las interpretó como cadenas de texto, incluso si contienen números).\n",
    "\n",
    "- **Columnas según Documentación**:\n",
    "\n",
    "    - `userID`: identificador del usuario o la usuaria;\n",
    "    - `Track`: título de la canción;\n",
    "    - `artist`: nombre del artista;\n",
    "    - `genre`: género de la pista;\n",
    "    - `City`: ciudad del usuario o la usuaria;\n",
    "    - `time`: la hora exacta en la que se reprodujo la canción;\n",
    "    - `Day`: día de la semana.\n",
    "- **Problemas de Estilo en los Encabezados (Identificados):**\n",
    "\n",
    "    1. **Consistencia de mayúsculas/minúsculas**: Algunos encabezados están en mayúsculas (`Track`, `City`), mientras que otros están en minúsculas (`artist`, `genre`).\n",
    "    2. **Espacios innecesarios**: Algunos encabezados contienen espacios iniciales o finales (ej., ` userID`).\n",
    "    3. **Convención de nomenclatura (snake_case)**: El encabezado ` userID` no sigue la convención snake_case (esperaríamos user_id), lo cual dificulta la consistencia en el código. Otros como `Track`, `City`, y `Day` tampoco siguen esta convención (`track`, `city`, `day` serían preferibles).\n",
    "\n",
    "\n",
    "\n"
   ]
  },
  {
   "cell_type": "markdown",
   "metadata": {
    "id": "MCB6-dXG_Zct"
   },
   "source": [
    "---\n",
    "\n",
    "#### **Reflexiones Preliminares sobre los Datos**\n",
    "\n",
    "Hemos procesado la información inicial del DataFrame para responder a preguntas críticas sobre la calidad y el tipo de nuestros datos:\n",
    "\n",
    "1. **Tipos de datos y lo que almacenan las columnas**:\n",
    "\n",
    "    - Las **filas** representan una reproducción individual de una canción, incluyendo detalles como el título de la canción, artista, género, la ciudad del usuario, la hora y el día de la reproducción.\n",
    "    - Las **columnas** contienen una mezcla de datos que, aunque inicialmente object, se pueden clasificar funcionalmente como:\n",
    "        - Categóricos: `userID` (identificador único, sin operaciones matemáticas), `Track`, `artist`, `genre` (información complementaria para tendencias), `City` (patrones geográficos), y `Day` (día de la semana de la reproducción).\n",
    "        - Cuantitativos: `time` (hora exacta de la reproducción, útil para tendencias horarias). Es importante señalar que si `Day` contuviera fechas completas, también podría considerarse cuantitativa para operaciones temporales.\n",
    "    - Observamos **valores ausentes** en algunas filas, donde la información de canción, artista o género podría estar incompleta.\n",
    "\n",
    "2. **Suficiencia de datos para la hipótesis**:\n",
    "\n",
    "    - A pesar de la presencia de valores ausentes, la información disponible es **suficiente para abordar y probar nuestra hipótesis** principal sobre las diferencias en la actividad musical entre ciudades y días de la semana.\n",
    "    - La columna con más **valores nulo** es `artist`, con aproximadamente un 11% de omisiones, lo cual **no representa un factor crítico que impida responder la hipótesis**.\n",
    "\n",
    "3. **Problemas identificados en los datos**:\n",
    "\n",
    "    - **Valores Ausentes**: Confirmamos la presencia de campos nulos en varias columnas, lo que requerirá un manejo adecuado en el preprocesamiento.\n",
    "    - **Consistencia de Texto**: Se observa inconsistencia en las mayúsculas/minúsculas en columnas como `Track`.\n",
    "    - **Consistencia de Nombres (snake_case)**: Los valores en la columna `Day` (Día) parecen estar limitados a solo tres valores únicos, lo cual es inusual para los siete días de la semana y sugiere posibles problemas de consistencia o representación incompleta de los datos."
   ]
  },
  {
   "cell_type": "markdown",
   "metadata": {
    "id": "3eL__vcwViOi"
   },
   "source": [
    "[Volver a Contenidos](#back)"
   ]
  },
  {
   "cell_type": "markdown",
   "metadata": {
    "id": "SjYF6Ub9_Zct"
   },
   "source": [
    "### **Etapa 2. Preprocesamiento de Datos**\n",
    "\n",
    "El preprocesamiento de datos es una fase crítica en cualquier proyecto de análisis. Nuestro objetivo aquí es transformar los datos crudos en un formato limpio y consistente, adecuado para el análisis y la prueba de hipótesis. Nos centraremos en tres áreas clave: **estandarización de encabezados, manejo de valores ausentes y eliminación de duplicados (explícitos e implícitos)**.\n",
    "\n",
    "\n"
   ]
  },
  {
   "cell_type": "markdown",
   "metadata": {
    "id": "dIaKXr29_Zct"
   },
   "source": [
    "#### **2.1 Estilo del Encabezado** \n",
    "\n",
    "Una consistencia en el estilo de los encabezados es fundamental para la legibilidad del código y la facilidad de manipulación del DataFrame. Hemos identificado problemas como mayúsculas/minúsculas inconsistentes, espacios extra y la falta de `snake_case`.\n",
    "\n",
    "Primero, mostremos los encabezados actuales para tener un punto de partida:"
   ]
  },
  {
   "cell_type": "code",
   "execution_count": 7,
   "metadata": {
    "id": "oKOTdF_Q_Zct",
    "trusted": true
   },
   "outputs": [
    {
     "name": "stdout",
     "output_type": "stream",
     "text": [
      "Index(['  userID', 'Track', 'artist', 'genre', '  City  ', 'time', 'Day'], dtype='object')\n"
     ]
    }
   ],
   "source": [
    "# Muestra los nombres de las columnas\n",
    "print(df.columns)"
   ]
  },
  {
   "cell_type": "markdown",
   "metadata": {
    "id": "Xu0zkfe5zNJe"
   },
   "source": [
    "Ahora, aplicaremos transformaciones para estandarizar el formato:\n",
    "- Minúsculas\n",
    "- Eliminar espacios\n",
    "- Utilizar `snake_case`"
   ]
  },
  {
   "cell_type": "code",
   "execution_count": 8,
   "metadata": {
    "id": "6I_RwwMhzM4e",
    "trusted": true
   },
   "outputs": [
    {
     "name": "stdout",
     "output_type": "stream",
     "text": [
      "Index(['  userid', 'track', 'artist', 'genre', '  city  ', 'time', 'day'], dtype='object')\n"
     ]
    }
   ],
   "source": [
    "# Bucle en encabezados poniendo todo en minúsculas\n",
    "new_columns=[]\n",
    "\n",
    "#Iterando sobre nombres\n",
    "for col in df.columns:\n",
    "    new_col=col.lower()\n",
    "    new_columns.append(new_col)\n",
    "\n",
    "#Definiendo nuevos valores de columnas sobre df.columns\n",
    "df.columns=new_columns\n",
    "\n",
    "print(df.columns)"
   ]
  },
  {
   "cell_type": "code",
   "execution_count": null,
   "metadata": {
    "id": "vVQXbFyJzSYl",
    "trusted": true
   },
   "outputs": [
    {
     "name": "stdout",
     "output_type": "stream",
     "text": [
      "Index(['userid', 'track', 'artist', 'genre', 'city', 'time', 'day'], dtype='object')\n"
     ]
    }
   ],
   "source": [
    "# Bucle en los encabezados para eliminar espacios en blanco\n",
    "new_columns=[]\n",
    "\n",
    "#Iterando sobre nombres\n",
    "for col in df.columns:\n",
    "    new_col=col.strip()\n",
    "    new_columns.append(new_col)\n",
    "\n",
    "#Definiendo nuevos valores de columnas sobre df.columns\n",
    "df.columns=new_columns\n",
    "print(df.columns)"
   ]
  },
  {
   "cell_type": "code",
   "execution_count": 10,
   "metadata": {
    "id": "ISlFqs5y_Zct",
    "trusted": true
   },
   "outputs": [
    {
     "name": "stdout",
     "output_type": "stream",
     "text": [
      "Index(['user_id', 'track', 'artist', 'genre', 'city', 'time', 'day'], dtype='object')\n"
     ]
    }
   ],
   "source": [
    "# Cambiar el nombre de la columna \"userid\"\n",
    "df.rename(columns={'userid':'user_id'},inplace=True)\n",
    "print(df.columns)"
   ]
  },
  {
   "cell_type": "markdown",
   "metadata": {
    "id": "1dqbh00J_Zct"
   },
   "source": [
    "Comprobando resultado. Mostrando encabezados una vez más:"
   ]
  },
  {
   "cell_type": "code",
   "execution_count": 11,
   "metadata": {
    "id": "d4NOAmTW_Zct",
    "trusted": true
   },
   "outputs": [
    {
     "name": "stdout",
     "output_type": "stream",
     "text": [
      "Index(['user_id', 'track', 'artist', 'genre', 'city', 'time', 'day'], dtype='object')\n"
     ]
    }
   ],
   "source": [
    "# Comprobar el resultado: la lista de encabezados\n",
    "print(df.columns)"
   ]
  },
  {
   "cell_type": "markdown",
   "metadata": {
    "id": "xYJk6ksJVpOl"
   },
   "source": [
    "[Volver a Contenidos](#back)"
   ]
  },
  {
   "cell_type": "markdown",
   "metadata": {
    "id": "5ISfbcfY_Zct"
   },
   "source": [
    "#### **2.2 Valores Ausentes**\n",
    "\n",
    "Los valores ausentes pueden distorsionar nuestros análisis y llevar a conclusiones erróneas. Es crucial identificarlos y manejarlos de manera adecuada.\n",
    "\n",
    "Primero, encontraremos el número de valores ausentes en todo el DataFrame:"
   ]
  },
  {
   "cell_type": "code",
   "execution_count": 12,
   "metadata": {
    "id": "RskX29qr_Zct",
    "trusted": true
   },
   "outputs": [
    {
     "name": "stdout",
     "output_type": "stream",
     "text": [
      "user_id       0\n",
      "track      1343\n",
      "artist     7567\n",
      "genre      1198\n",
      "city          0\n",
      "time          0\n",
      "day           0\n",
      "dtype: int64\n"
     ]
    }
   ],
   "source": [
    "# Calcular el número de valores ausentes\n",
    "print(df.isna().sum())"
   ]
  },
  {
   "cell_type": "markdown",
   "metadata": {
    "id": "qubhgnlO_Zct"
   },
   "source": [
    "Observamos que las columnas `track`, `artist` y `genre` tienen valores ausentes. Mientras que la ausencia en `track` y `artist` no es crítica para nuestra hipótesis principal, los valores ausentes en `genre` podrían afectar la comparación entre ciudades. Aunque idealmente buscaríamos las razones detrás de estos datos faltantes, en este contexto, los reemplazaremos con un valor predeterminado para mantener la integridad de la estructura y facilitar el análisis.\n",
    "\n",
    "Procederemos a reemplazar estos valores ausentes con el string `unknown`:"
   ]
  },
  {
   "cell_type": "code",
   "execution_count": 13,
   "metadata": {
    "id": "KplB5qWs_Zct",
    "trusted": true
   },
   "outputs": [],
   "source": [
    "# Bucle en los encabezados reemplazando los valores ausentes con 'unknown'\n",
    "columns_to_fill=['track','artist','genre']\n",
    "for col in columns_to_fill:\n",
    "    df[col].fillna('unknown',inplace=True)\n",
    "\n"
   ]
  },
  {
   "cell_type": "markdown",
   "metadata": {
    "id": "Ilsm-MZo_Zct"
   },
   "source": [
    "Ahora comprueba el resultado para asegurarnos de que después del reemplazo no haya valores ausentes en el conjunto de datos. Para hacer esto, contaremos los valores ausentes nuevamente."
   ]
  },
  {
   "cell_type": "code",
   "execution_count": 14,
   "metadata": {
    "id": "Tq4nYRX4_Zct",
    "trusted": true
   },
   "outputs": [
    {
     "name": "stdout",
     "output_type": "stream",
     "text": [
      "user_id    0\n",
      "track      0\n",
      "artist     0\n",
      "genre      0\n",
      "city       0\n",
      "time       0\n",
      "day        0\n",
      "dtype: int64\n"
     ]
    }
   ],
   "source": [
    "# Contar valores ausentes\n",
    "print(df.isna().sum())"
   ]
  },
  {
   "cell_type": "markdown",
   "metadata": {
    "id": "74ZIBmq9VrsK"
   },
   "source": [
    "[Volver a Contenidos](#back)"
   ]
  },
  {
   "cell_type": "markdown",
   "metadata": {
    "id": "BWKRtBJ3_Zct"
   },
   "source": [
    "#### **2.3 Duplicados**\n",
    "\n",
    "Los datos duplicados pueden inflar artificialmente las estadísticas y sesgar los resultados. Los abordaremos en dos fases: duplicados explícitos y duplicados implícitos (variaciones de escritura).\n",
    "\n",
    "Primero, encontraremos y eliminaremos los duplicados explícitos:"
   ]
  },
  {
   "cell_type": "code",
   "execution_count": 15,
   "metadata": {
    "id": "36eES_S0_Zct",
    "trusted": true
   },
   "outputs": [
    {
     "name": "stdout",
     "output_type": "stream",
     "text": [
      "3826\n"
     ]
    }
   ],
   "source": [
    "# Contar duplicados explícitos\n",
    "print(df.duplicated().sum())"
   ]
  },
  {
   "cell_type": "code",
   "execution_count": 16,
   "metadata": {
    "id": "exFHq6tt_Zct",
    "trusted": true
   },
   "outputs": [],
   "source": [
    "# Eliminar duplicados explícitos\n",
    "df.drop_duplicates(inplace=True)"
   ]
  },
  {
   "cell_type": "markdown",
   "metadata": {
    "id": "Im2YwBEG_Zct"
   },
   "source": [
    "Comprobemos ahora si eliminamos con éxito todos los duplicados. Contaremos los duplicados explícitos una vez más para asegurarnos de haberlos eliminado todos:"
   ]
  },
  {
   "cell_type": "code",
   "execution_count": 17,
   "metadata": {
    "id": "-8PuNWQ0_Zct",
    "trusted": true
   },
   "outputs": [
    {
     "name": "stdout",
     "output_type": "stream",
     "text": [
      "0\n"
     ]
    }
   ],
   "source": [
    "# Comprobar de nuevo si hay duplicados\n",
    "print(df.duplicated().sum())\n"
   ]
  },
  {
   "cell_type": "markdown",
   "metadata": {
    "id": "QlFBsxAr_Zct"
   },
   "source": [
    "Ahora, nos ocuparemos de los duplicados implícitos en la columna genre. Dichos errores pueden surgir por inconsistencias en la entrada de datos y pueden afectar significativamente la agrupación y el análisis por género.\n",
    "\n",
    "Primero, mostramos una lista de nombres de género únicos para identificar las inconsistencias:"
   ]
  },
  {
   "cell_type": "code",
   "execution_count": 18,
   "metadata": {
    "id": "JIUcqzZN_Zct",
    "trusted": true
   },
   "outputs": [
    {
     "name": "stdout",
     "output_type": "stream",
     "text": [
      "['acid' 'acoustic' 'action' 'adult' 'africa' 'afrikaans' 'alternative'\n",
      " 'ambient' 'americana' 'animated' 'anime' 'arabesk' 'arabic' 'arena'\n",
      " 'argentinetango' 'art' 'audiobook' 'avantgarde' 'axé' 'baile' 'balkan'\n",
      " 'beats' 'bigroom' 'black' 'bluegrass' 'blues' 'bollywood' 'bossa'\n",
      " 'brazilian' 'breakbeat' 'breaks' 'broadway' 'cantautori' 'cantopop'\n",
      " 'canzone' 'caribbean' 'caucasian' 'celtic' 'chamber' 'children' 'chill'\n",
      " 'chinese' 'choral' 'christian' 'christmas' 'classical' 'classicmetal'\n",
      " 'club' 'colombian' 'comedy' 'conjazz' 'contemporary' 'country' 'cuban'\n",
      " 'dance' 'dancehall' 'dancepop' 'dark' 'death' 'deep' 'deutschrock'\n",
      " 'deutschspr' 'dirty' 'disco' 'dnb' 'documentary' 'downbeat' 'downtempo'\n",
      " 'drum' 'dub' 'dubstep' 'eastern' 'easy' 'electronic' 'electropop' 'emo'\n",
      " 'entehno' 'epicmetal' 'estrada' 'ethnic' 'eurofolk' 'european'\n",
      " 'experimental' 'extrememetal' 'fado' 'film' 'fitness' 'flamenco' 'folk'\n",
      " 'folklore' 'folkmetal' 'folkrock' 'folktronica' 'forró' 'frankreich'\n",
      " 'französisch' 'french' 'funk' 'future' 'gangsta' 'garage' 'german'\n",
      " 'ghazal' 'gitarre' 'glitch' 'gospel' 'gothic' 'grime' 'grunge' 'gypsy'\n",
      " 'handsup' \"hard'n'heavy\" 'hardcore' 'hardstyle' 'hardtechno' 'hip'\n",
      " 'hip-hop' 'hiphop' 'historisch' 'holiday' 'hop' 'horror' 'house' 'idm'\n",
      " 'independent' 'indian' 'indie' 'indipop' 'industrial' 'inspirational'\n",
      " 'instrumental' 'international' 'irish' 'jam' 'japanese' 'jazz' 'jewish'\n",
      " 'jpop' 'jungle' 'k-pop' 'karadeniz' 'karaoke' 'kayokyoku' 'korean'\n",
      " 'laiko' 'latin' 'latino' 'leftfield' 'local' 'lounge' 'loungeelectronic'\n",
      " 'lovers' 'malaysian' 'mandopop' 'marschmusik' 'meditative'\n",
      " 'mediterranean' 'melodic' 'metal' 'metalcore' 'mexican' 'middle'\n",
      " 'minimal' 'miscellaneous' 'modern' 'mood' 'mpb' 'muslim' 'native'\n",
      " 'neoklassik' 'neue' 'new' 'newage' 'newwave' 'nu' 'nujazz' 'numetal'\n",
      " 'oceania' 'old' 'opera' 'orchestral' 'other' 'piano' 'pop'\n",
      " 'popelectronic' 'popeurodance' 'post' 'posthardcore' 'postrock' 'power'\n",
      " 'progmetal' 'progressive' 'psychedelic' 'punjabi' 'punk' 'quebecois'\n",
      " 'ragga' 'ram' 'rancheras' 'rap' 'rave' 'reggae' 'reggaeton' 'regional'\n",
      " 'relax' 'religious' 'retro' 'rhythm' 'rnb' 'rnr' 'rock' 'rockabilly'\n",
      " 'romance' 'roots' 'ruspop' 'rusrap' 'rusrock' 'salsa' 'samba' 'schlager'\n",
      " 'self' 'sertanejo' 'shoegazing' 'showtunes' 'singer' 'ska' 'slow'\n",
      " 'smooth' 'soul' 'soulful' 'sound' 'soundtrack' 'southern' 'specialty'\n",
      " 'speech' 'spiritual' 'sport' 'stonerrock' 'surf' 'swing' 'synthpop'\n",
      " 'sängerportrait' 'tango' 'tanzorchester' 'taraftar' 'tech' 'techno'\n",
      " 'thrash' 'top' 'traditional' 'tradjazz' 'trance' 'tribal' 'trip'\n",
      " 'triphop' 'tropical' 'türk' 'türkçe' 'unknown' 'urban' 'uzbek' 'variété'\n",
      " 'vi' 'videogame' 'vocal' 'western' 'world' 'worldbeat' 'ïîï']\n"
     ]
    }
   ],
   "source": [
    "# Inspeccionar los nombres de géneros únicos\n",
    "print(df['genre'].sort_values().unique())"
   ]
  },
  {
   "cell_type": "markdown",
   "metadata": {
    "id": "qej-Qmuo_Zct"
   },
   "source": [
    "Hemos identificado duplicados implícitos para el género hiphop (ej., *hip*, *hop*, *hip-hop*). Crearemos una función para estandarizar estos nombres."
   ]
  },
  {
   "cell_type": "code",
   "execution_count": 22,
   "metadata": {
    "id": "ErNDkmns_Zct",
    "trusted": true
   },
   "outputs": [],
   "source": [
    "# Función para reemplazar duplicados implícitos\n",
    "def replace_wrong_genres (wrong_genres, correct_genre):\n",
    "    for wrong in wrong_genres:\n",
    "        df['genre']=df['genre'].replace(wrong, correct_genre)\n",
    "    return \n"
   ]
  },
  {
   "cell_type": "markdown",
   "metadata": {
    "id": "aDoBJxbA_Zct"
   },
   "source": [
    "Ahora, utilizaremos `replace_wrong_genres()` e insertaremos los argumentos para que retire los duplicados implícitos (*hip*, *hop* y *hip-hop*) y reemplace por *hiphop*:"
   ]
  },
  {
   "cell_type": "code",
   "execution_count": 23,
   "metadata": {
    "id": "YN5i2hpmSo09",
    "trusted": true
   },
   "outputs": [
    {
     "name": "stdout",
     "output_type": "stream",
     "text": [
      "None\n"
     ]
    }
   ],
   "source": [
    "# Eliminar duplicados implícitos\n",
    "wrong=['hip','hop','hip-hop']\n",
    "correct='hiphop'\n",
    "\n",
    "exercise=replace_wrong_genres(wrong,correct)\n",
    "print(exercise)"
   ]
  },
  {
   "cell_type": "markdown",
   "metadata": {
    "id": "zQKF16_RG15m"
   },
   "source": [
    "Comprobemos que los nombres duplicados han sido eliminados. Mostrando la lista de valores únicos de la columna `'genre'` :"
   ]
  },
  {
   "cell_type": "code",
   "execution_count": 24,
   "metadata": {
    "id": "wvixALnFG15m",
    "trusted": true
   },
   "outputs": [
    {
     "name": "stdout",
     "output_type": "stream",
     "text": [
      "['acid' 'acoustic' 'action' 'adult' 'africa' 'afrikaans' 'alternative'\n",
      " 'ambient' 'americana' 'animated' 'anime' 'arabesk' 'arabic' 'arena'\n",
      " 'argentinetango' 'art' 'audiobook' 'avantgarde' 'axé' 'baile' 'balkan'\n",
      " 'beats' 'bigroom' 'black' 'bluegrass' 'blues' 'bollywood' 'bossa'\n",
      " 'brazilian' 'breakbeat' 'breaks' 'broadway' 'cantautori' 'cantopop'\n",
      " 'canzone' 'caribbean' 'caucasian' 'celtic' 'chamber' 'children' 'chill'\n",
      " 'chinese' 'choral' 'christian' 'christmas' 'classical' 'classicmetal'\n",
      " 'club' 'colombian' 'comedy' 'conjazz' 'contemporary' 'country' 'cuban'\n",
      " 'dance' 'dancehall' 'dancepop' 'dark' 'death' 'deep' 'deutschrock'\n",
      " 'deutschspr' 'dirty' 'disco' 'dnb' 'documentary' 'downbeat' 'downtempo'\n",
      " 'drum' 'dub' 'dubstep' 'eastern' 'easy' 'electronic' 'electropop' 'emo'\n",
      " 'entehno' 'epicmetal' 'estrada' 'ethnic' 'eurofolk' 'european'\n",
      " 'experimental' 'extrememetal' 'fado' 'film' 'fitness' 'flamenco' 'folk'\n",
      " 'folklore' 'folkmetal' 'folkrock' 'folktronica' 'forró' 'frankreich'\n",
      " 'französisch' 'french' 'funk' 'future' 'gangsta' 'garage' 'german'\n",
      " 'ghazal' 'gitarre' 'glitch' 'gospel' 'gothic' 'grime' 'grunge' 'gypsy'\n",
      " 'handsup' \"hard'n'heavy\" 'hardcore' 'hardstyle' 'hardtechno' 'hiphop'\n",
      " 'historisch' 'holiday' 'horror' 'house' 'idm' 'independent' 'indian'\n",
      " 'indie' 'indipop' 'industrial' 'inspirational' 'instrumental'\n",
      " 'international' 'irish' 'jam' 'japanese' 'jazz' 'jewish' 'jpop' 'jungle'\n",
      " 'k-pop' 'karadeniz' 'karaoke' 'kayokyoku' 'korean' 'laiko' 'latin'\n",
      " 'latino' 'leftfield' 'local' 'lounge' 'loungeelectronic' 'lovers'\n",
      " 'malaysian' 'mandopop' 'marschmusik' 'meditative' 'mediterranean'\n",
      " 'melodic' 'metal' 'metalcore' 'mexican' 'middle' 'minimal'\n",
      " 'miscellaneous' 'modern' 'mood' 'mpb' 'muslim' 'native' 'neoklassik'\n",
      " 'neue' 'new' 'newage' 'newwave' 'nu' 'nujazz' 'numetal' 'oceania' 'old'\n",
      " 'opera' 'orchestral' 'other' 'piano' 'pop' 'popelectronic' 'popeurodance'\n",
      " 'post' 'posthardcore' 'postrock' 'power' 'progmetal' 'progressive'\n",
      " 'psychedelic' 'punjabi' 'punk' 'quebecois' 'ragga' 'ram' 'rancheras'\n",
      " 'rap' 'rave' 'reggae' 'reggaeton' 'regional' 'relax' 'religious' 'retro'\n",
      " 'rhythm' 'rnb' 'rnr' 'rock' 'rockabilly' 'romance' 'roots' 'ruspop'\n",
      " 'rusrap' 'rusrock' 'salsa' 'samba' 'schlager' 'self' 'sertanejo'\n",
      " 'shoegazing' 'showtunes' 'singer' 'ska' 'slow' 'smooth' 'soul' 'soulful'\n",
      " 'sound' 'soundtrack' 'southern' 'specialty' 'speech' 'spiritual' 'sport'\n",
      " 'stonerrock' 'surf' 'swing' 'synthpop' 'sängerportrait' 'tango'\n",
      " 'tanzorchester' 'taraftar' 'tech' 'techno' 'thrash' 'top' 'traditional'\n",
      " 'tradjazz' 'trance' 'tribal' 'trip' 'triphop' 'tropical' 'türk' 'türkçe'\n",
      " 'unknown' 'urban' 'uzbek' 'variété' 'vi' 'videogame' 'vocal' 'western'\n",
      " 'world' 'worldbeat' 'ïîï']\n"
     ]
    }
   ],
   "source": [
    "# Comprobación de duplicados implícitos\n",
    "print(df['genre'].sort_values().unique())"
   ]
  },
  {
   "cell_type": "markdown",
   "metadata": {
    "id": "ALgNbvF3VtPA"
   },
   "source": [
    "[Volver a Contenidos](#back)"
   ]
  },
  {
   "cell_type": "markdown",
   "metadata": {
    "id": "jz6a9-7HQUDd"
   },
   "source": [
    "#### **2.4 Conclusiones del Preprocesamiento de Datos** \n",
    "\n",
    "Durante esta etapa de preprocesamiento, hemos realizado mejoras significativas en la calidad y consistencia de nuestros datos, lo cual es fundamental para la fiabilidad de los análisis subsiguientes:\n",
    "\n",
    "- **Duplicados Explícitos**: Se identificaron y eliminaron 3826 duplicados explícitos utilizando el método `drop_duplicates()` . Este proceso asegura que cada fila del DataFrame represente un registro único, evitando sesgos en conteos y agregaciones. La confirmación posterior del conteo de duplicados verificó una eliminación exitosa.\n",
    "\n",
    "- **Duplicados Implícitos**: Se notó una falta de homologación en la entrada de datos para el género \"hiphop\", presentando variaciones como \"hip\", \"hop\" y \"hip-hop\". Este problema se abordó de manera automatizada mediante la creación y aplicación de la función `replace_wrong_genres()`. Esta función iteró a través de los valores de la columna 'genre', reemplazando las versiones incorrectas por el valor estandarizado 'hiphop'. La verificación final de los valores únicos en la columna genre confirmó la estandarización exitosa.\n",
    "\n",
    "En resumen, la limpieza de encabezados, el manejo de valores ausentes y la eliminación de duplicados (explícitos e implícitos) han resultado en un conjunto de datos mucho más limpio y listo para la prueba de hipótesis, mejorando la precisión y la confianza en nuestros hallazgos."
   ]
  },
  {
   "cell_type": "markdown",
   "metadata": {
    "id": "eK1es74rVujj"
   },
   "source": [
    "[Volver a Contenidos](#back)"
   ]
  },
  {
   "cell_type": "markdown",
   "metadata": {
    "id": "8Dw_YMmT_Zcu"
   },
   "source": [
    "### **Etapa 3. Prueba de Hipótesis**\n",
    "\n",
    "En esta etapa, nos adentraremos en el corazón de nuestro proyecto: la prueba de hipótesis. Aplicaremos nuestros datos limpios y preprocesados para investigar si existen diferencias significativas en el comportamiento de consumo de música entre los usuarios de Springfield y Shelbyville, centrándonos en la actividad durante días específicos de la semana.\n",
    "\n",
    "#### **Hipótesis: Comparación del Comportamiento del Usuario en las Dos Ciudades**\n",
    "\n",
    "Nuestra hipótesis principal establece que **la actividad de los usuarios difiere según el día de la semana y dependiendo de la ciudad.** Para probar esto, analizaremos los datos de tres días clave: **lunes, miércoles y viernes.**\n",
    "\n",
    "El enfoque metodológico seguirá el paradigma **dividir-aplicar-combinar (Split-Apply-Combine)** para agrupar y agregar los datos de manera efectiva.\n",
    "\n",
    "**Evaluación de la Actividad por Ciudad**\n",
    "\n",
    "Primero, evaluaremos la actividad general de los usuarios en cada ciudad. Agruparemos el DataFrame por la columna `city` y contaremos el número de canciones reproducidas.\n",
    "\n"
   ]
  },
  {
   "cell_type": "code",
   "execution_count": 25,
   "metadata": {
    "id": "0_Qs96oh_Zcu",
    "trusted": true
   },
   "outputs": [
    {
     "name": "stdout",
     "output_type": "stream",
     "text": [
      "Usuarios por ciudad\n",
      "city\n",
      "Shelbyville    12423\n",
      "Springfield    29358\n",
      "Name: user_id, dtype: int64\n",
      "\n",
      "Canciones or Ciudad\n",
      "city\n",
      "Shelbyville    18512\n",
      "Springfield    42741\n",
      "Name: track, dtype: int64\n",
      "Index(['user_id', 'track', 'artist', 'genre', 'city', 'time', 'day'], dtype='object')\n"
     ]
    }
   ],
   "source": [
    "# Contar las canciones reproducidas en cada ciudad\n",
    "usuarios_por_ciudad=df.groupby('city')['user_id'].nunique()\n",
    "canciones_por_ciudad=df.groupby('city')['track'].count()\n",
    "\n",
    "print(\"Usuarios por ciudad\")\n",
    "print(usuarios_por_ciudad)\n",
    "print()\n",
    "print(\"Canciones or Ciudad\")\n",
    "print(canciones_por_ciudad)\n",
    "\n",
    "print(df.columns)"
   ]
  },
  {
   "cell_type": "markdown",
   "metadata": {
    "id": "t_Qx-3NewAnK"
   },
   "source": [
    "#### **Observaciones:**\n",
    "\n",
    "- Se observa que **Springfield tiene una mayor cantidad de reproducciones de canciones** en comparación con Shelbyville. Específicamente, las reproducciones en Springfield son aproximadamente el doble que en Shelbyville.\n",
    "- Esta diferencia en el volumen de reproducciones es **lógica y consistente con la mayor población** esperada en Springfield, sugiriendo una correlación directa entre el tamaño de la base de usuarios y la actividad total.\n",
    "\n",
    "\n",
    "#### **Evaluación de la Actividad por Día de la Semana**\n",
    "\n",
    "Ahora, profundizaremos en la actividad por día de la semana, sin considerar la ciudad por el momento. Agruparemos los datos por `day` y contaremos las reproducciones."
   ]
  },
  {
   "cell_type": "code",
   "execution_count": 26,
   "metadata": {
    "id": "uZMKjiJz_Zcu",
    "trusted": true
   },
   "outputs": [
    {
     "name": "stdout",
     "output_type": "stream",
     "text": [
      "Canciones reproducidas Shelbyville\n",
      "day\n",
      "Friday       5895\n",
      "Monday       5614\n",
      "Wednesday    7003\n",
      "Name: day, dtype: int64\n",
      "\n",
      "Canciones reproducidas Springfield\n",
      "day\n",
      "Friday       15945\n",
      "Monday       15740\n",
      "Wednesday    11056\n",
      "Name: day, dtype: int64\n"
     ]
    }
   ],
   "source": [
    "# Calcular las canciones reproducidas en cada uno de los tres días\n",
    "ciudad_Shelbyville =df[df['city']=='Shelbyville']\n",
    "dias_Shelbyville=ciudad_Shelbyville.groupby('day')['day'].count()\n",
    "ciudad_Springfield =df[df['city']=='Springfield']\n",
    "dias_Springfield=ciudad_Springfield.groupby('day')['day'].count()\n",
    "print('Canciones reproducidas Shelbyville')\n",
    "print(dias_Shelbyville)\n",
    "print()\n",
    "print('Canciones reproducidas Springfield')\n",
    "print(dias_Springfield)"
   ]
  },
  {
   "cell_type": "markdown",
   "metadata": {
    "id": "cC2tNrlL_Zcu"
   },
   "source": [
    "#### **Observaciones:**\n",
    "\n",
    "Al analizar la actividad por día, identificamos patrones distintos:\n",
    "    - En Shelbyville, el día de mayor actividad de reproducción es el miércoles.\n",
    "    - En Springfield, el día con el mayor número de reproducciones es el viernes.\n",
    "- Estos hallazgos ya sugieren una diferencia en el comportamiento de consumo de música entre las dos ciudades en función del día.\n",
    "\n",
    "**Conteo de Canciones por Día y Ciudad (Función `number_tracks()`)**\n",
    "\n",
    "Para una verificación más precisa de nuestra hipótesis, necesitamos una función que pueda contar el número de canciones reproducidas simultáneamente por un **día específico y una ciudad específica**.\n",
    "\n",
    "Crearemos la función `number_tracks()`:"
   ]
  },
  {
   "cell_type": "code",
   "execution_count": 27,
   "metadata": {
    "id": "Nz3GdQB1_Zcu",
    "trusted": true
   },
   "outputs": [],
   "source": [
    "# Declara la función number_tracks() con dos parámetros: day= y city=.\n",
    "def number_track (df,day,city):\n",
    "    # Almacena las filas del DataFrame donde el valor en la columna 'day' es igual al parámetro day=\n",
    "    filter_day = df[ df['day'] == day ]\n",
    "    # Filtra las filas donde el valor en la columna 'city' es igual al parámetro city=\n",
    "    filter_city = filter_day[ filter_day['city'] == city ]\n",
    "    # Extrae la columna 'user_id' de la tabla filtrada y aplica el método count()\n",
    "    filter_user_id = filter_city['user_id'].count()\n",
    "    # Devolve el número de valores de la columna 'user_id'\n",
    "    return filter_user_id\n"
   ]
  },
  {
   "cell_type": "code",
   "execution_count": 28,
   "metadata": {
    "id": "rJcRATNQ_Zcu",
    "trusted": true
   },
   "outputs": [
    {
     "name": "stdout",
     "output_type": "stream",
     "text": [
      "15740\n"
     ]
    }
   ],
   "source": [
    "# El número de canciones reproducidas en Springfield el lunes\n",
    "springfield_monday=number_track(df,\"Monday\",\"Springfield\")\n",
    "print(springfield_monday)"
   ]
  },
  {
   "cell_type": "code",
   "execution_count": 30,
   "metadata": {
    "id": "hq_ncZ5T_Zcu",
    "trusted": true
   },
   "outputs": [
    {
     "name": "stdout",
     "output_type": "stream",
     "text": [
      "5614\n"
     ]
    }
   ],
   "source": [
    "# El número de canciones reproducidas en Shelbyville el lunes\n",
    "springfield_monday=number_track(df,\"Monday\",\"Shelbyville\")\n",
    "print(springfield_monday)"
   ]
  },
  {
   "cell_type": "code",
   "execution_count": 31,
   "metadata": {
    "id": "_NTy2VPU_Zcu",
    "trusted": true
   },
   "outputs": [
    {
     "name": "stdout",
     "output_type": "stream",
     "text": [
      "11056\n"
     ]
    }
   ],
   "source": [
    "# El número de canciones reproducidas en Springfield el miércoles\n",
    "springfield_monday=number_track(df,\"Wednesday\",\"Springfield\")\n",
    "print(springfield_monday)"
   ]
  },
  {
   "cell_type": "code",
   "execution_count": 32,
   "metadata": {
    "id": "j2y3TAwo_Zcu",
    "trusted": true
   },
   "outputs": [
    {
     "name": "stdout",
     "output_type": "stream",
     "text": [
      "7003\n"
     ]
    }
   ],
   "source": [
    "# El número de canciones reproducidas en Shelbyville el miércoles\n",
    "springfield_monday=number_track(df,\"Wednesday\",\"Shelbyville\")\n",
    "print(springfield_monday)"
   ]
  },
  {
   "cell_type": "code",
   "execution_count": 33,
   "metadata": {
    "id": "vYDw5u_K_Zcu",
    "trusted": true
   },
   "outputs": [
    {
     "name": "stdout",
     "output_type": "stream",
     "text": [
      "15945\n"
     ]
    }
   ],
   "source": [
    "# El número de canciones reproducidas en Springfield el viernes\n",
    "springfield_monday=number_track(df,\"Friday\",\"Springfield\")\n",
    "print(springfield_monday)"
   ]
  },
  {
   "cell_type": "code",
   "execution_count": 35,
   "metadata": {
    "id": "8_yzFtW3_Zcu",
    "trusted": true
   },
   "outputs": [
    {
     "name": "stdout",
     "output_type": "stream",
     "text": [
      "5895\n"
     ]
    }
   ],
   "source": [
    "# El número de canciones reproducidas en Shelbyville el viernes\n",
    "springfield_monday=number_track(df,\"Friday\",\"Shelbyville\")\n",
    "print(springfield_monday)"
   ]
  },
  {
   "cell_type": "markdown",
   "metadata": {
    "id": "tjUwbHb3_Zcv"
   },
   "source": [
    "#### **Conclusiones sobre la Hipótesis**\n",
    "\n",
    "**Comentarios sobre la hipótesis:**\n",
    "La hipótesis de que \"la actividad de los usuarios y usuarias difiere según el día de la semana y dependiendo de la ciudad\" debería **aceptarse por completo**. Nuestros análisis comparativos proporcionan una sólida evidencia que apoya esta afirmación.\n",
    "\n",
    "Al comparar específicamente la actividad en **Shelbyville**, observamos que el día con más reproducciones fue el **miércoles**. En contraste, para **Springfield**, el pico de reproducciones se registró el **viernes**. Adicionalmente, los días de menor actividad también difieren: el lunes fue el día con menos reproducciones en Shelbyville, mientras que en Springfield, el miércoles tuvo las menores reproducciones. Estos patrones divergentes confirman que no existe una similitud en la distribución de la actividad de reproducción musical entre ambas ciudades a lo largo de la semana.\n",
    "\n",
    "**Resumen de las conclusiones sobre la hipótesis:**\n",
    "\n",
    "Con base en la información analizada, no se detecta ninguna similitud en el patrón de reproducciones entre ambas ciudades por días de la semana. Las ciudades presentan patrones de consumo musical distintos y picos de actividad en días diferentes. Por lo tanto, la hipótesis inicial se acepta completamente: *la actividad de los usuarios y usuarias difiere significativamente según el día de la semana y la ciudad.*\n",
    "\n",
    "---\n",
    "\n",
    "**Nota Adicional**\n",
    "\n",
    "Es importante recordar que, en proyectos de investigación reales, la prueba de hipótesis estadística es más precisa y cuantitativa, involucrando pruebas como *Chi-cuadrado* o *pruebas t*. También, las conclusiones sobre una ciudad entera basadas en datos de una sola fuente deben manejarse con cautela, ya que la muestra puede no ser completamente representativa. Se explorarán técnicas de prueba de hipótesis más avanzadas en el sprint de análisis estadístico de datos."
   ]
  }
 ],
 "metadata": {
  "ExecuteTimeLog": [
   {
    "duration": 318,
    "start_time": "2025-01-17T05:59:26.913Z"
   },
   {
    "duration": 115,
    "start_time": "2025-01-17T05:59:31.010Z"
   },
   {
    "duration": 6,
    "start_time": "2025-01-17T05:59:54.239Z"
   },
   {
    "duration": 8,
    "start_time": "2025-01-17T06:00:31.170Z"
   },
   {
    "duration": 22,
    "start_time": "2025-01-17T06:00:55.616Z"
   },
   {
    "duration": 196,
    "start_time": "2025-01-17T06:41:56.471Z"
   },
   {
    "duration": 456,
    "start_time": "2025-01-17T06:42:34.541Z"
   },
   {
    "duration": 20,
    "start_time": "2025-01-17T06:42:48.147Z"
   },
   {
    "duration": 22,
    "start_time": "2025-01-17T06:42:59.413Z"
   },
   {
    "duration": 32,
    "start_time": "2025-01-17T06:43:11.297Z"
   },
   {
    "duration": 30,
    "start_time": "2025-01-17T06:43:17.643Z"
   },
   {
    "duration": 102,
    "start_time": "2025-01-17T06:43:47.072Z"
   },
   {
    "duration": 59,
    "start_time": "2025-01-17T06:44:20.608Z"
   },
   {
    "duration": 27,
    "start_time": "2025-01-17T06:45:42.374Z"
   },
   {
    "duration": 25,
    "start_time": "2025-01-17T06:46:06.114Z"
   },
   {
    "duration": 155,
    "start_time": "2025-01-18T22:34:36.259Z"
   },
   {
    "duration": 438,
    "start_time": "2025-01-18T22:35:47.202Z"
   },
   {
    "duration": 4,
    "start_time": "2025-01-18T22:37:15.308Z"
   },
   {
    "duration": 3,
    "start_time": "2025-01-18T22:37:43.392Z"
   },
   {
    "duration": 34,
    "start_time": "2025-01-18T22:38:44.478Z"
   },
   {
    "duration": 13,
    "start_time": "2025-01-18T22:43:09.061Z"
   },
   {
    "duration": 3,
    "start_time": "2025-01-18T22:44:11.592Z"
   },
   {
    "duration": 3,
    "start_time": "2025-01-18T22:44:49.994Z"
   },
   {
    "duration": 4,
    "start_time": "2025-01-18T22:59:23.866Z"
   },
   {
    "duration": 679,
    "start_time": "2025-01-18T23:00:59.159Z"
   },
   {
    "duration": 4,
    "start_time": "2025-01-18T23:04:41.141Z"
   },
   {
    "duration": 6,
    "start_time": "2025-01-18T23:04:59.671Z"
   },
   {
    "duration": 4,
    "start_time": "2025-01-18T23:05:59.990Z"
   },
   {
    "duration": 3,
    "start_time": "2025-01-18T23:06:36.821Z"
   },
   {
    "duration": 13,
    "start_time": "2025-01-18T23:06:48.468Z"
   },
   {
    "duration": 13,
    "start_time": "2025-01-18T23:09:22.832Z"
   },
   {
    "duration": 12,
    "start_time": "2025-01-18T23:13:19.482Z"
   },
   {
    "duration": 13,
    "start_time": "2025-01-18T23:13:25.721Z"
   },
   {
    "duration": 13,
    "start_time": "2025-01-18T23:13:29.960Z"
   },
   {
    "duration": 3,
    "start_time": "2025-01-18T23:13:37.792Z"
   },
   {
    "duration": 15,
    "start_time": "2025-01-18T23:14:58.929Z"
   },
   {
    "duration": 14,
    "start_time": "2025-01-18T23:16:52.467Z"
   },
   {
    "duration": 17,
    "start_time": "2025-01-18T23:17:04.080Z"
   },
   {
    "duration": 13,
    "start_time": "2025-01-18T23:17:13.895Z"
   },
   {
    "duration": 9,
    "start_time": "2025-01-18T23:17:47.205Z"
   },
   {
    "duration": 14,
    "start_time": "2025-01-18T23:21:38.789Z"
   },
   {
    "duration": 17,
    "start_time": "2025-01-18T23:22:48.033Z"
   },
   {
    "duration": 14,
    "start_time": "2025-01-18T23:28:38.538Z"
   },
   {
    "duration": 15,
    "start_time": "2025-01-18T23:28:54.558Z"
   },
   {
    "duration": 13,
    "start_time": "2025-01-18T23:29:01.844Z"
   },
   {
    "duration": 13,
    "start_time": "2025-01-18T23:30:25.625Z"
   },
   {
    "duration": 14,
    "start_time": "2025-01-18T23:32:17.733Z"
   },
   {
    "duration": 6,
    "start_time": "2025-01-18T23:32:46.288Z"
   },
   {
    "duration": 14,
    "start_time": "2025-01-18T23:32:51.454Z"
   },
   {
    "duration": 13,
    "start_time": "2025-01-18T23:32:55.978Z"
   },
   {
    "duration": 12,
    "start_time": "2025-01-18T23:33:06.133Z"
   },
   {
    "duration": 12,
    "start_time": "2025-01-18T23:33:23.886Z"
   },
   {
    "duration": 11,
    "start_time": "2025-01-18T23:33:27.967Z"
   },
   {
    "duration": 101,
    "start_time": "2025-01-18T23:33:36.084Z"
   },
   {
    "duration": 13,
    "start_time": "2025-01-18T23:34:03.047Z"
   },
   {
    "duration": 109,
    "start_time": "2025-01-18T23:34:07.704Z"
   },
   {
    "duration": 13,
    "start_time": "2025-01-18T23:35:00.319Z"
   },
   {
    "duration": 4,
    "start_time": "2025-01-18T23:35:07.812Z"
   },
   {
    "duration": 4,
    "start_time": "2025-01-18T23:36:12.395Z"
   },
   {
    "duration": 4,
    "start_time": "2025-01-18T23:36:28.040Z"
   },
   {
    "duration": 4,
    "start_time": "2025-01-18T23:37:06.897Z"
   },
   {
    "duration": 4,
    "start_time": "2025-01-18T23:37:33.375Z"
   },
   {
    "duration": 3,
    "start_time": "2025-01-18T23:39:22.593Z"
   },
   {
    "duration": 4,
    "start_time": "2025-01-18T23:47:44.062Z"
   },
   {
    "duration": 8,
    "start_time": "2025-01-18T23:47:51.025Z"
   },
   {
    "duration": 6,
    "start_time": "2025-01-18T23:50:06.551Z"
   },
   {
    "duration": 3,
    "start_time": "2025-01-18T23:51:22.419Z"
   },
   {
    "duration": 3,
    "start_time": "2025-01-18T23:51:59.490Z"
   },
   {
    "duration": 18,
    "start_time": "2025-01-18T23:55:37.651Z"
   },
   {
    "duration": 11,
    "start_time": "2025-01-19T00:03:48.032Z"
   },
   {
    "duration": 10,
    "start_time": "2025-01-19T00:10:21.436Z"
   },
   {
    "duration": 22,
    "start_time": "2025-01-19T00:11:03.799Z"
   },
   {
    "duration": 42,
    "start_time": "2025-01-19T00:11:56.965Z"
   },
   {
    "duration": 43,
    "start_time": "2025-01-19T00:12:44.677Z"
   },
   {
    "duration": 49,
    "start_time": "2025-01-19T00:12:47.901Z"
   },
   {
    "duration": 40,
    "start_time": "2025-01-19T00:12:50.149Z"
   },
   {
    "duration": 15,
    "start_time": "2025-01-19T00:14:19.192Z"
   },
   {
    "duration": 6,
    "start_time": "2025-01-19T00:14:27.729Z"
   },
   {
    "duration": 14,
    "start_time": "2025-01-19T00:14:44.347Z"
   },
   {
    "duration": 6,
    "start_time": "2025-01-19T00:14:59.478Z"
   },
   {
    "duration": 5,
    "start_time": "2025-01-19T00:19:41.983Z"
   },
   {
    "duration": 30,
    "start_time": "2025-01-19T00:19:47.121Z"
   },
   {
    "duration": 3,
    "start_time": "2025-01-19T00:19:59.879Z"
   },
   {
    "duration": 15,
    "start_time": "2025-01-19T00:20:05.365Z"
   },
   {
    "duration": 31,
    "start_time": "2025-01-19T00:20:15.923Z"
   },
   {
    "duration": 2,
    "start_time": "2025-01-19T00:35:00.942Z"
   },
   {
    "duration": 13,
    "start_time": "2025-01-19T00:36:20.318Z"
   },
   {
    "duration": 19,
    "start_time": "2025-01-19T00:37:04.048Z"
   },
   {
    "duration": 12,
    "start_time": "2025-01-19T00:38:03.555Z"
   },
   {
    "duration": 11,
    "start_time": "2025-01-19T00:38:25.462Z"
   },
   {
    "duration": 6,
    "start_time": "2025-01-19T00:38:38.510Z"
   },
   {
    "duration": 15,
    "start_time": "2025-01-19T00:38:48.336Z"
   },
   {
    "duration": 30,
    "start_time": "2025-01-19T00:38:59.834Z"
   },
   {
    "duration": 4,
    "start_time": "2025-01-19T00:56:07.419Z"
   },
   {
    "duration": 10,
    "start_time": "2025-01-19T00:58:03.324Z"
   },
   {
    "duration": 5,
    "start_time": "2025-01-19T01:00:27.946Z"
   },
   {
    "duration": 13,
    "start_time": "2025-01-19T01:00:40.828Z"
   },
   {
    "duration": 15,
    "start_time": "2025-01-19T01:00:54.705Z"
   },
   {
    "duration": 21,
    "start_time": "2025-01-19T01:01:18.415Z"
   },
   {
    "duration": 5,
    "start_time": "2025-01-19T01:06:59.343Z"
   },
   {
    "duration": 9,
    "start_time": "2025-01-19T01:07:05.798Z"
   },
   {
    "duration": 50,
    "start_time": "2025-01-19T01:09:50.337Z"
   },
   {
    "duration": 14,
    "start_time": "2025-01-19T01:11:17.569Z"
   },
   {
    "duration": 4,
    "start_time": "2025-01-19T01:21:53.266Z"
   },
   {
    "duration": 3,
    "start_time": "2025-01-19T01:22:01.275Z"
   },
   {
    "duration": 4,
    "start_time": "2025-01-19T01:22:22.191Z"
   },
   {
    "duration": 8,
    "start_time": "2025-01-19T01:22:27.190Z"
   },
   {
    "duration": 81,
    "start_time": "2025-01-19T01:22:34.236Z"
   },
   {
    "duration": 4,
    "start_time": "2025-01-19T01:23:52.057Z"
   },
   {
    "duration": 18,
    "start_time": "2025-01-19T01:23:56.510Z"
   },
   {
    "duration": 12,
    "start_time": "2025-01-19T01:24:03.742Z"
   },
   {
    "duration": 23,
    "start_time": "2025-01-19T01:25:30.244Z"
   },
   {
    "duration": 14,
    "start_time": "2025-01-19T01:25:58.428Z"
   },
   {
    "duration": 10,
    "start_time": "2025-01-19T01:26:09.837Z"
   },
   {
    "duration": 12,
    "start_time": "2025-01-19T01:26:59.557Z"
   },
   {
    "duration": 22,
    "start_time": "2025-01-19T01:29:34.690Z"
   },
   {
    "duration": 24,
    "start_time": "2025-01-19T01:30:12.764Z"
   },
   {
    "duration": 23,
    "start_time": "2025-01-19T01:32:46.100Z"
   },
   {
    "duration": 22,
    "start_time": "2025-01-19T01:32:59.106Z"
   },
   {
    "duration": 2,
    "start_time": "2025-01-19T01:37:18.866Z"
   },
   {
    "duration": 3,
    "start_time": "2025-01-19T01:37:23.900Z"
   },
   {
    "duration": 13,
    "start_time": "2025-01-19T01:37:35.617Z"
   },
   {
    "duration": 7,
    "start_time": "2025-01-19T04:45:13.514Z"
   },
   {
    "duration": 3,
    "start_time": "2025-01-19T04:45:20.543Z"
   },
   {
    "duration": 3,
    "start_time": "2025-01-19T04:45:24.825Z"
   },
   {
    "duration": 2,
    "start_time": "2025-01-19T04:45:27.075Z"
   },
   {
    "duration": 3,
    "start_time": "2025-01-19T04:45:41.197Z"
   },
   {
    "duration": 157,
    "start_time": "2025-01-19T04:46:13.338Z"
   },
   {
    "duration": 19,
    "start_time": "2025-01-19T04:47:25.364Z"
   },
   {
    "duration": 14,
    "start_time": "2025-01-19T04:49:16.394Z"
   },
   {
    "duration": 14,
    "start_time": "2025-01-19T04:50:17.781Z"
   },
   {
    "duration": 3,
    "start_time": "2025-01-19T04:51:12.538Z"
   },
   {
    "duration": 12,
    "start_time": "2025-01-19T04:51:47.826Z"
   },
   {
    "duration": 11,
    "start_time": "2025-01-19T04:51:57.274Z"
   },
   {
    "duration": 12,
    "start_time": "2025-01-19T04:52:09.487Z"
   },
   {
    "duration": 3,
    "start_time": "2025-01-19T04:52:47.646Z"
   },
   {
    "duration": 36,
    "start_time": "2025-01-19T04:52:49.693Z"
   },
   {
    "duration": 15,
    "start_time": "2025-01-19T04:53:43.822Z"
   },
   {
    "duration": 15,
    "start_time": "2025-01-19T04:54:02.565Z"
   },
   {
    "duration": 3,
    "start_time": "2025-01-19T04:54:05.496Z"
   },
   {
    "duration": 17,
    "start_time": "2025-01-19T04:54:08.254Z"
   },
   {
    "duration": 17,
    "start_time": "2025-01-19T04:54:55.646Z"
   },
   {
    "duration": 3,
    "start_time": "2025-01-19T04:58:45.664Z"
   },
   {
    "duration": 3,
    "start_time": "2025-01-19T05:03:59.521Z"
   },
   {
    "duration": 17,
    "start_time": "2025-01-19T05:04:02.535Z"
   },
   {
    "duration": 3,
    "start_time": "2025-01-19T05:06:50.221Z"
   },
   {
    "duration": 12,
    "start_time": "2025-01-19T05:06:52.345Z"
   },
   {
    "duration": 4,
    "start_time": "2025-01-19T05:10:45.572Z"
   },
   {
    "duration": 12,
    "start_time": "2025-01-19T05:10:48.772Z"
   },
   {
    "duration": 11,
    "start_time": "2025-01-19T05:11:11.338Z"
   },
   {
    "duration": 13,
    "start_time": "2025-01-19T05:11:20.939Z"
   },
   {
    "duration": 12,
    "start_time": "2025-01-19T05:11:25.491Z"
   },
   {
    "duration": 12,
    "start_time": "2025-01-19T05:11:30.319Z"
   },
   {
    "duration": 12,
    "start_time": "2025-01-19T05:11:34.025Z"
   },
   {
    "duration": 2,
    "start_time": "2025-01-19T05:13:22.742Z"
   },
   {
    "duration": 3,
    "start_time": "2025-01-19T05:14:41.680Z"
   },
   {
    "duration": 11,
    "start_time": "2025-01-19T05:14:45.168Z"
   },
   {
    "duration": 18,
    "start_time": "2025-01-19T05:14:57.850Z"
   },
   {
    "duration": 5,
    "start_time": "2025-01-19T05:15:14.251Z"
   },
   {
    "duration": 12,
    "start_time": "2025-01-19T05:15:20.312Z"
   },
   {
    "duration": 297,
    "start_time": "2025-01-19T14:52:00.465Z"
   },
   {
    "duration": 127,
    "start_time": "2025-01-19T14:52:02.689Z"
   },
   {
    "duration": 11,
    "start_time": "2025-01-19T14:52:06.497Z"
   },
   {
    "duration": 24,
    "start_time": "2025-01-19T14:52:11.870Z"
   },
   {
    "duration": 23,
    "start_time": "2025-01-19T14:52:26.660Z"
   },
   {
    "duration": 95,
    "start_time": "2025-01-19T14:52:46.747Z"
   },
   {
    "duration": 3,
    "start_time": "2025-01-19T14:52:59.993Z"
   },
   {
    "duration": 4,
    "start_time": "2025-01-19T14:53:10.494Z"
   },
   {
    "duration": 5,
    "start_time": "2025-01-19T14:53:17.346Z"
   },
   {
    "duration": 6,
    "start_time": "2025-01-19T14:53:22.471Z"
   },
   {
    "duration": 3,
    "start_time": "2025-01-19T14:53:28.104Z"
   },
   {
    "duration": 25,
    "start_time": "2025-01-19T14:53:30.957Z"
   },
   {
    "duration": 12,
    "start_time": "2025-01-19T14:53:35.581Z"
   },
   {
    "duration": 17,
    "start_time": "2025-01-19T14:53:38.717Z"
   },
   {
    "duration": 45,
    "start_time": "2025-01-19T14:53:41.784Z"
   },
   {
    "duration": 45,
    "start_time": "2025-01-19T14:53:43.919Z"
   },
   {
    "duration": 38,
    "start_time": "2025-01-19T14:53:46.478Z"
   },
   {
    "duration": 30,
    "start_time": "2025-01-19T14:53:49.633Z"
   },
   {
    "duration": 179,
    "start_time": "2025-01-19T14:53:54.227Z"
   },
   {
    "duration": 3,
    "start_time": "2025-01-19T14:54:08.982Z"
   },
   {
    "duration": 17,
    "start_time": "2025-01-19T14:54:12.417Z"
   },
   {
    "duration": 3,
    "start_time": "2025-01-19T14:54:48.464Z"
   },
   {
    "duration": 8,
    "start_time": "2025-01-19T14:54:50.799Z"
   },
   {
    "duration": 31,
    "start_time": "2025-01-19T14:54:56.813Z"
   },
   {
    "duration": 21,
    "start_time": "2025-01-19T14:55:03.235Z"
   },
   {
    "duration": 21,
    "start_time": "2025-01-19T14:55:09.194Z"
   },
   {
    "duration": 3,
    "start_time": "2025-01-19T14:55:17.355Z"
   },
   {
    "duration": 13,
    "start_time": "2025-01-19T14:55:20.830Z"
   },
   {
    "duration": 11,
    "start_time": "2025-01-19T14:55:24.531Z"
   },
   {
    "duration": 12,
    "start_time": "2025-01-19T14:55:36.245Z"
   },
   {
    "duration": 13,
    "start_time": "2025-01-19T14:55:38.806Z"
   },
   {
    "duration": 11,
    "start_time": "2025-01-19T14:55:41.652Z"
   },
   {
    "duration": 13,
    "start_time": "2025-01-19T14:55:43.960Z"
   },
   {
    "duration": 13,
    "start_time": "2025-01-19T14:55:45.999Z"
   },
   {
    "duration": 12,
    "start_time": "2025-01-19T14:57:42.895Z"
   },
   {
    "duration": 9,
    "start_time": "2025-01-20T01:16:35.138Z"
   },
   {
    "duration": 6,
    "start_time": "2025-01-20T01:18:17.737Z"
   },
   {
    "duration": 165,
    "start_time": "2025-01-20T06:18:22.185Z"
   },
   {
    "duration": 331,
    "start_time": "2025-01-20T06:18:27.106Z"
   },
   {
    "duration": 116,
    "start_time": "2025-01-20T06:18:30.462Z"
   },
   {
    "duration": 7,
    "start_time": "2025-01-20T06:18:32.921Z"
   },
   {
    "duration": 11,
    "start_time": "2025-01-20T06:18:52.122Z"
   },
   {
    "duration": 11,
    "start_time": "2025-01-20T06:20:11.569Z"
   }
  ],
  "colab": {
   "collapsed_sections": [
    "E0vqbgi9ay0H",
    "VUC88oWjTJw2"
   ],
   "provenance": []
  },
  "kernelspec": {
   "display_name": "Python 3 (ipykernel)",
   "language": "python",
   "name": "python3"
  },
  "language_info": {
   "codemirror_mode": {
    "name": "ipython",
    "version": 3
   },
   "file_extension": ".py",
   "mimetype": "text/x-python",
   "name": "python",
   "nbconvert_exporter": "python",
   "pygments_lexer": "ipython3",
   "version": "3.9.19"
  },
  "toc": {
   "base_numbering": 1,
   "nav_menu": {},
   "number_sections": true,
   "sideBar": true,
   "skip_h1_title": true,
   "title_cell": "Table of Contents",
   "title_sidebar": "Contents",
   "toc_cell": false,
   "toc_position": {
    "height": "calc(100% - 180px)",
    "left": "10px",
    "top": "150px",
    "width": "499px"
   },
   "toc_section_display": true,
   "toc_window_display": true
  }
 },
 "nbformat": 4,
 "nbformat_minor": 1
}
